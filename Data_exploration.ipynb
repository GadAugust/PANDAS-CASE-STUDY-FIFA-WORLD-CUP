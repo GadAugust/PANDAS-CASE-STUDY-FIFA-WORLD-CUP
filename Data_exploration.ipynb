{
 "cells": [
  {
   "cell_type": "markdown",
   "id": "8c48616c-4cbf-419d-a5bf-73b5042d1136",
   "metadata": {},
   "source": [
    "# PANDAS CASE STUDY: FIFA WORLD CUP"
   ]
  },
  {
   "cell_type": "code",
   "execution_count": 2,
   "id": "409aec3c-b637-4573-86f3-0398a5a600a3",
   "metadata": {},
   "outputs": [],
   "source": [
    "#import libraries\n",
    "import pandas as pd"
   ]
  },
  {
   "cell_type": "code",
   "execution_count": 3,
   "id": "c4c8332e-ae3e-464f-bbcc-7d2581e6b789",
   "metadata": {},
   "outputs": [
    {
     "name": "stdout",
     "output_type": "stream",
     "text": [
      "Requirement already satisfied: pyarrow in /usr/local/python/3.10.13/lib/python3.10/site-packages (15.0.0)\n",
      "Requirement already satisfied: numpy<2,>=1.16.6 in /home/codespace/.local/lib/python3.10/site-packages (from pyarrow) (1.26.4)\n"
     ]
    }
   ],
   "source": [
    "#install pyarrow\n",
    "!pip install pyarrow"
   ]
  },
  {
   "cell_type": "code",
   "execution_count": 4,
   "id": "e65187cd-6339-4c2f-adf6-4d019d955e33",
   "metadata": {},
   "outputs": [],
   "source": [
    "# loading my dataset\n",
    "\n",
    "cup_df = pd.read_csv('world_cup_matches.csv')"
   ]
  },
  {
   "cell_type": "markdown",
   "id": "d2c052aa-80b5-4fd4-aefe-6ab956b85ef4",
   "metadata": {},
   "source": [
    "# Exploratory Analysis of the dataset\n",
    "\n",
    "\n",
    "1. How many rows and columns are in the dataset?\n",
    "2. Are there missing values in the dataset?\n",
    "3. Are there duplicates in the dataset?\n",
    "4. Check the datatypes of all columns in the dataset\n",
    "5. Check for Outliers in all numerical columns\n",
    "6. What is the earliest tournament year recorded in the dataset\n",
    "7. What is the latest tournament year recorded in the dataset\n",
    "8. Check for the distinct stages in the dataset"
   ]
  },
  {
   "cell_type": "code",
   "execution_count": 5,
   "id": "e49cda2a-15c0-43f3-812e-72aa40d26775",
   "metadata": {},
   "outputs": [
    {
     "data": {
      "text/html": [
       "<div>\n",
       "<style scoped>\n",
       "    .dataframe tbody tr th:only-of-type {\n",
       "        vertical-align: middle;\n",
       "    }\n",
       "\n",
       "    .dataframe tbody tr th {\n",
       "        vertical-align: top;\n",
       "    }\n",
       "\n",
       "    .dataframe thead th {\n",
       "        text-align: right;\n",
       "    }\n",
       "</style>\n",
       "<table border=\"1\" class=\"dataframe\">\n",
       "  <thead>\n",
       "    <tr style=\"text-align: right;\">\n",
       "      <th></th>\n",
       "      <th>ID</th>\n",
       "      <th>Year</th>\n",
       "      <th>Date</th>\n",
       "      <th>Stage</th>\n",
       "      <th>Home Team</th>\n",
       "      <th>Home Goals</th>\n",
       "      <th>Away Goals</th>\n",
       "      <th>Away Team</th>\n",
       "      <th>Win Conditions</th>\n",
       "      <th>Host Team</th>\n",
       "    </tr>\n",
       "  </thead>\n",
       "  <tbody>\n",
       "    <tr>\n",
       "      <th>0</th>\n",
       "      <td>1</td>\n",
       "      <td>1930</td>\n",
       "      <td>1930-07-13</td>\n",
       "      <td>Group stage</td>\n",
       "      <td>France</td>\n",
       "      <td>4</td>\n",
       "      <td>1</td>\n",
       "      <td>Mexico</td>\n",
       "      <td>NaN</td>\n",
       "      <td>False</td>\n",
       "    </tr>\n",
       "    <tr>\n",
       "      <th>1</th>\n",
       "      <td>2</td>\n",
       "      <td>1930</td>\n",
       "      <td>1930-07-13</td>\n",
       "      <td>Group stage</td>\n",
       "      <td>United States</td>\n",
       "      <td>3</td>\n",
       "      <td>0</td>\n",
       "      <td>Belgium</td>\n",
       "      <td>NaN</td>\n",
       "      <td>False</td>\n",
       "    </tr>\n",
       "    <tr>\n",
       "      <th>2</th>\n",
       "      <td>3</td>\n",
       "      <td>1930</td>\n",
       "      <td>1930-07-14</td>\n",
       "      <td>Group stage</td>\n",
       "      <td>Yugoslavia</td>\n",
       "      <td>2</td>\n",
       "      <td>1</td>\n",
       "      <td>Brazil</td>\n",
       "      <td>NaN</td>\n",
       "      <td>False</td>\n",
       "    </tr>\n",
       "    <tr>\n",
       "      <th>3</th>\n",
       "      <td>4</td>\n",
       "      <td>1930</td>\n",
       "      <td>1930-07-14</td>\n",
       "      <td>Group stage</td>\n",
       "      <td>Romania</td>\n",
       "      <td>3</td>\n",
       "      <td>1</td>\n",
       "      <td>Peru</td>\n",
       "      <td>NaN</td>\n",
       "      <td>False</td>\n",
       "    </tr>\n",
       "    <tr>\n",
       "      <th>4</th>\n",
       "      <td>5</td>\n",
       "      <td>1930</td>\n",
       "      <td>1930-07-15</td>\n",
       "      <td>Group stage</td>\n",
       "      <td>Argentina</td>\n",
       "      <td>1</td>\n",
       "      <td>0</td>\n",
       "      <td>France</td>\n",
       "      <td>NaN</td>\n",
       "      <td>False</td>\n",
       "    </tr>\n",
       "  </tbody>\n",
       "</table>\n",
       "</div>"
      ],
      "text/plain": [
       "   ID  Year        Date        Stage      Home Team  Home Goals  Away Goals  \\\n",
       "0   1  1930  1930-07-13  Group stage         France           4           1   \n",
       "1   2  1930  1930-07-13  Group stage  United States           3           0   \n",
       "2   3  1930  1930-07-14  Group stage     Yugoslavia           2           1   \n",
       "3   4  1930  1930-07-14  Group stage        Romania           3           1   \n",
       "4   5  1930  1930-07-15  Group stage      Argentina           1           0   \n",
       "\n",
       "  Away Team Win Conditions  Host Team  \n",
       "0    Mexico            NaN      False  \n",
       "1   Belgium            NaN      False  \n",
       "2    Brazil            NaN      False  \n",
       "3      Peru            NaN      False  \n",
       "4    France            NaN      False  "
      ]
     },
     "execution_count": 5,
     "metadata": {},
     "output_type": "execute_result"
    }
   ],
   "source": [
    "cup_df.head()"
   ]
  },
  {
   "cell_type": "code",
   "execution_count": 6,
   "id": "3f624936-a3fa-4449-8a32-aff0ef47313c",
   "metadata": {},
   "outputs": [],
   "source": [
    "# lets make a copy of the dataset for refrence sake\n",
    "\n",
    "df = cup_df.copy()"
   ]
  },
  {
   "cell_type": "code",
   "execution_count": 7,
   "id": "377ab485-4eff-46e9-beab-8a53525f5aaf",
   "metadata": {},
   "outputs": [
    {
     "name": "stdout",
     "output_type": "stream",
     "text": [
      "<class 'pandas.core.frame.DataFrame'>\n",
      "RangeIndex: 900 entries, 0 to 899\n",
      "Data columns (total 10 columns):\n",
      " #   Column          Non-Null Count  Dtype \n",
      "---  ------          --------------  ----- \n",
      " 0   ID              900 non-null    int64 \n",
      " 1   Year            900 non-null    int64 \n",
      " 2   Date            900 non-null    object\n",
      " 3   Stage           900 non-null    object\n",
      " 4   Home Team       900 non-null    object\n",
      " 5   Home Goals      900 non-null    int64 \n",
      " 6   Away Goals      900 non-null    int64 \n",
      " 7   Away Team       900 non-null    object\n",
      " 8   Win Conditions  62 non-null     object\n",
      " 9   Host Team       900 non-null    bool  \n",
      "dtypes: bool(1), int64(4), object(5)\n",
      "memory usage: 64.3+ KB\n"
     ]
    }
   ],
   "source": [
    "# 1. How many rows and columns are in the dataset?\n",
    "#The Data Structure\n",
    "\n",
    "cup_df.info()"
   ]
  },
  {
   "cell_type": "code",
   "execution_count": 9,
   "id": "785288b2-ea4c-4be6-927f-c9bbe449331c",
   "metadata": {},
   "outputs": [],
   "source": [
    "# 2. Are there missing values in the dataset?"
   ]
  },
  {
   "cell_type": "markdown",
   "id": "b7099bb1-af17-4b3d-84c4-31ffdac81e73",
   "metadata": {},
   "source": [
    "from the data above we can see that there are missing values in the Win Conditions Column about 838 missing values"
   ]
  },
  {
   "cell_type": "code",
   "execution_count": 8,
   "id": "7faacb94-651f-419e-90a7-9b06faf26815",
   "metadata": {},
   "outputs": [
    {
     "data": {
      "text/plain": [
       "0      False\n",
       "1      False\n",
       "2      False\n",
       "3      False\n",
       "4      False\n",
       "       ...  \n",
       "895    False\n",
       "896    False\n",
       "897    False\n",
       "898    False\n",
       "899    False\n",
       "Length: 900, dtype: bool"
      ]
     },
     "execution_count": 8,
     "metadata": {},
     "output_type": "execute_result"
    }
   ],
   "source": [
    "#3.Are there duplicates in the dataset?\n",
    "#checking for duplicates\n",
    "\n",
    "df.duplicated()"
   ]
  },
  {
   "cell_type": "code",
   "execution_count": 9,
   "id": "920d177a-565f-4991-8be7-1b1df50c3ef9",
   "metadata": {},
   "outputs": [
    {
     "data": {
      "text/plain": [
       "0"
      ]
     },
     "execution_count": 9,
     "metadata": {},
     "output_type": "execute_result"
    }
   ],
   "source": [
    "#sum if there are duplicates\n",
    "df.duplicated().sum()"
   ]
  },
  {
   "cell_type": "markdown",
   "id": "8d8bae8f-16f2-4b69-a515-bbe98bb1edbe",
   "metadata": {},
   "source": [
    "# from the above we can see there are no duplicates in the data set"
   ]
  },
  {
   "cell_type": "markdown",
   "id": "6753b894-9ea0-4acf-a365-ee0be09a9911",
   "metadata": {},
   "source": [
    "4. Check the datatypes of all columns in the dataset\n",
    "\n"
   ]
  },
  {
   "cell_type": "code",
   "execution_count": 10,
   "id": "3d7ba08c-0400-4215-bc66-a33490180ae7",
   "metadata": {},
   "outputs": [
    {
     "name": "stdout",
     "output_type": "stream",
     "text": [
      "<class 'pandas.core.frame.DataFrame'>\n",
      "RangeIndex: 900 entries, 0 to 899\n",
      "Data columns (total 10 columns):\n",
      " #   Column          Non-Null Count  Dtype \n",
      "---  ------          --------------  ----- \n",
      " 0   ID              900 non-null    int64 \n",
      " 1   Year            900 non-null    int64 \n",
      " 2   Date            900 non-null    object\n",
      " 3   Stage           900 non-null    object\n",
      " 4   Home Team       900 non-null    object\n",
      " 5   Home Goals      900 non-null    int64 \n",
      " 6   Away Goals      900 non-null    int64 \n",
      " 7   Away Team       900 non-null    object\n",
      " 8   Win Conditions  62 non-null     object\n",
      " 9   Host Team       900 non-null    bool  \n",
      "dtypes: bool(1), int64(4), object(5)\n",
      "memory usage: 64.3+ KB\n"
     ]
    }
   ],
   "source": [
    "cup_df.info()"
   ]
  },
  {
   "cell_type": "code",
   "execution_count": null,
   "id": "7704cd1d-40c9-4845-a441-66727581c651",
   "metadata": {},
   "outputs": [],
   "source": [
    "# we can see above that all the datatypes are fine except the Date column tha needs cleaning"
   ]
  },
  {
   "cell_type": "markdown",
   "id": "2b9f0f22-c681-4bd4-9ae1-13e857a5e16a",
   "metadata": {},
   "source": [
    "5. Check outliers in all numerical columns"
   ]
  },
  {
   "cell_type": "code",
   "execution_count": 11,
   "id": "ba9eea0b-9b0c-431b-b86d-b6e09d6d1772",
   "metadata": {},
   "outputs": [
    {
     "data": {
      "text/html": [
       "<div>\n",
       "<style scoped>\n",
       "    .dataframe tbody tr th:only-of-type {\n",
       "        vertical-align: middle;\n",
       "    }\n",
       "\n",
       "    .dataframe tbody tr th {\n",
       "        vertical-align: top;\n",
       "    }\n",
       "\n",
       "    .dataframe thead th {\n",
       "        text-align: right;\n",
       "    }\n",
       "</style>\n",
       "<table border=\"1\" class=\"dataframe\">\n",
       "  <thead>\n",
       "    <tr style=\"text-align: right;\">\n",
       "      <th></th>\n",
       "      <th>ID</th>\n",
       "      <th>Year</th>\n",
       "      <th>Home Goals</th>\n",
       "      <th>Away Goals</th>\n",
       "    </tr>\n",
       "  </thead>\n",
       "  <tbody>\n",
       "    <tr>\n",
       "      <th>count</th>\n",
       "      <td>900.000000</td>\n",
       "      <td>900.000000</td>\n",
       "      <td>900.000000</td>\n",
       "      <td>900.000000</td>\n",
       "    </tr>\n",
       "    <tr>\n",
       "      <th>mean</th>\n",
       "      <td>450.500000</td>\n",
       "      <td>1986.915556</td>\n",
       "      <td>1.792222</td>\n",
       "      <td>1.038889</td>\n",
       "    </tr>\n",
       "    <tr>\n",
       "      <th>std</th>\n",
       "      <td>259.951919</td>\n",
       "      <td>23.150270</td>\n",
       "      <td>1.593279</td>\n",
       "      <td>1.081567</td>\n",
       "    </tr>\n",
       "    <tr>\n",
       "      <th>min</th>\n",
       "      <td>1.000000</td>\n",
       "      <td>1930.000000</td>\n",
       "      <td>0.000000</td>\n",
       "      <td>0.000000</td>\n",
       "    </tr>\n",
       "    <tr>\n",
       "      <th>25%</th>\n",
       "      <td>225.750000</td>\n",
       "      <td>1970.000000</td>\n",
       "      <td>1.000000</td>\n",
       "      <td>0.000000</td>\n",
       "    </tr>\n",
       "    <tr>\n",
       "      <th>50%</th>\n",
       "      <td>450.500000</td>\n",
       "      <td>1990.000000</td>\n",
       "      <td>2.000000</td>\n",
       "      <td>1.000000</td>\n",
       "    </tr>\n",
       "    <tr>\n",
       "      <th>75%</th>\n",
       "      <td>675.250000</td>\n",
       "      <td>2006.000000</td>\n",
       "      <td>3.000000</td>\n",
       "      <td>2.000000</td>\n",
       "    </tr>\n",
       "    <tr>\n",
       "      <th>max</th>\n",
       "      <td>900.000000</td>\n",
       "      <td>2018.000000</td>\n",
       "      <td>10.000000</td>\n",
       "      <td>7.000000</td>\n",
       "    </tr>\n",
       "  </tbody>\n",
       "</table>\n",
       "</div>"
      ],
      "text/plain": [
       "               ID         Year  Home Goals  Away Goals\n",
       "count  900.000000   900.000000  900.000000  900.000000\n",
       "mean   450.500000  1986.915556    1.792222    1.038889\n",
       "std    259.951919    23.150270    1.593279    1.081567\n",
       "min      1.000000  1930.000000    0.000000    0.000000\n",
       "25%    225.750000  1970.000000    1.000000    0.000000\n",
       "50%    450.500000  1990.000000    2.000000    1.000000\n",
       "75%    675.250000  2006.000000    3.000000    2.000000\n",
       "max    900.000000  2018.000000   10.000000    7.000000"
      ]
     },
     "execution_count": 11,
     "metadata": {},
     "output_type": "execute_result"
    }
   ],
   "source": [
    "# checking for outliers\n",
    "#sds above the mean 2 + 4 = 6; -2\n",
    "df.describe()"
   ]
  },
  {
   "cell_type": "markdown",
   "id": "cc351408-82b4-4626-95f1-88a0d5e8348d",
   "metadata": {},
   "source": [
    "# 6. What is the earliest tournament year recorded in the dataset"
   ]
  },
  {
   "cell_type": "code",
   "execution_count": 12,
   "id": "7b7a5b83-9ca8-4bcb-8b13-1cdee85dd03b",
   "metadata": {},
   "outputs": [
    {
     "data": {
      "text/plain": [
       "1930"
      ]
     },
     "execution_count": 12,
     "metadata": {},
     "output_type": "execute_result"
    }
   ],
   "source": [
    "# Earliest tournament\n",
    "df[\"Year\"].min()"
   ]
  },
  {
   "cell_type": "markdown",
   "id": "da3ae2b0-6f68-47d6-847b-a04f78ec9aff",
   "metadata": {},
   "source": [
    "7. What is the latest tournament year recorded in the dataset"
   ]
  },
  {
   "cell_type": "code",
   "execution_count": 13,
   "id": "9ebe7a48-a23f-47d5-926b-d18e755ba82f",
   "metadata": {},
   "outputs": [
    {
     "data": {
      "text/plain": [
       "2018"
      ]
     },
     "execution_count": 13,
     "metadata": {},
     "output_type": "execute_result"
    }
   ],
   "source": [
    "#latest tournament\n",
    "df[\"Year\"].max()"
   ]
  },
  {
   "cell_type": "markdown",
   "id": "b58cece7-9c32-4318-a863-007ba19812d3",
   "metadata": {},
   "source": [
    "8.Check for the distinct stages in the dataset"
   ]
  },
  {
   "cell_type": "code",
   "execution_count": 15,
   "id": "e2491eb6-3968-4aa9-9e7b-5961fb6cd11f",
   "metadata": {},
   "outputs": [],
   "source": [
    "# Distinct stages\n",
    "distinct_stages = df[\"Stage\"].unique()"
   ]
  },
  {
   "cell_type": "code",
   "execution_count": 16,
   "id": "80b036e3-056e-45e1-a591-e6eb4d2e4b28",
   "metadata": {},
   "outputs": [
    {
     "data": {
      "text/plain": [
       "array(['Group stage', 'Semi-finals', 'Final', 'Round of 16',\n",
       "       'Quarter-finals', 'Third place', 'First round', 'Final round',\n",
       "       'First group stage', 'Second group stage'], dtype=object)"
      ]
     },
     "execution_count": 16,
     "metadata": {},
     "output_type": "execute_result"
    }
   ],
   "source": [
    "distinct_stages"
   ]
  },
  {
   "cell_type": "code",
   "execution_count": 17,
   "id": "783291db-b4e0-46a6-bbea-1b438d03dc86",
   "metadata": {},
   "outputs": [],
   "source": [
    "distinct_stages = df[\"Stage\"].nunique()"
   ]
  },
  {
   "cell_type": "code",
   "execution_count": 18,
   "id": "a7026471-97e4-4227-b3a1-59412d17c3b7",
   "metadata": {},
   "outputs": [
    {
     "data": {
      "text/plain": [
       "10"
      ]
     },
     "execution_count": 18,
     "metadata": {},
     "output_type": "execute_result"
    }
   ],
   "source": [
    "distinct_stages"
   ]
  },
  {
   "cell_type": "code",
   "execution_count": 20,
   "id": "f04193d2-11eb-4415-a6bc-813f67d96e1e",
   "metadata": {},
   "outputs": [
    {
     "data": {
      "text/plain": [
       "Year\n",
       "1930    3\n",
       "1934    5\n",
       "1938    5\n",
       "1950    2\n",
       "1954    5\n",
       "1958    5\n",
       "1962    5\n",
       "1966    5\n",
       "1970    5\n",
       "1974    4\n",
       "1978    4\n",
       "1982    5\n",
       "1986    6\n",
       "1990    6\n",
       "1994    6\n",
       "1998    6\n",
       "2002    6\n",
       "2006    6\n",
       "2010    6\n",
       "2014    6\n",
       "2018    6\n",
       "Name: Stage, dtype: int64"
      ]
     },
     "execution_count": 20,
     "metadata": {},
     "output_type": "execute_result"
    }
   ],
   "source": [
    "#Using the groupby Method\n",
    "df.groupby('Year')['Stage'].nunique()"
   ]
  },
  {
   "cell_type": "code",
   "execution_count": null,
   "id": "481a4a44-1b57-4646-9d5f-aa99c7822727",
   "metadata": {},
   "outputs": [],
   "source": []
  }
 ],
 "metadata": {
  "kernelspec": {
   "display_name": "Python 3 (ipykernel)",
   "language": "python",
   "name": "python3"
  },
  "language_info": {
   "codemirror_mode": {
    "name": "ipython",
    "version": 3
   },
   "file_extension": ".py",
   "mimetype": "text/x-python",
   "name": "python",
   "nbconvert_exporter": "python",
   "pygments_lexer": "ipython3",
   "version": "3.10.13"
  }
 },
 "nbformat": 4,
 "nbformat_minor": 5
}
